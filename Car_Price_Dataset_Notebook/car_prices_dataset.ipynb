{
 "cells": [
  {
   "cell_type": "markdown",
   "metadata": {},
   "source": [
    "Car Price Prediction\n",
    "\n",
    "The problem at hand is to model the selling price of used cars based on the features given in the datasets. \n",
    "It will be used by the client to predict the price of a car of their choice.\n",
    "Your mission, should you choose to accept it, as a data scientist, is to make sure that you maximize the probability of them getting the car and at the same time, make sure that they don't overpay."
   ]
  },
  {
   "cell_type": "code",
   "execution_count": 2,
   "metadata": {},
   "outputs": [],
   "source": [
    "# Importing necessary libraries\n",
    "import numpy as np\n",
    "import pandas as pd\n",
    "import matplotlib.pyplot as plt\n",
    "import seaborn as sns\n",
    "%matplotlib inline"
   ]
  },
  {
   "cell_type": "code",
   "execution_count": 3,
   "metadata": {},
   "outputs": [],
   "source": [
    "car_data = pd.read_csv('car_data.csv')\n",
    "model_data = pd.read_csv('model_data.csv')"
   ]
  },
  {
   "cell_type": "markdown",
   "metadata": {},
   "source": [
    "About the data\n",
    "car_data.csv\n",
    "\n",
    "Model: Model name of the car that is sold.\n",
    "Selling Price: The selling price of the car. This is your target feature.\n",
    "Kilometers Driven: Number of kilometers that the car has already driven.\n",
    "Year: Year of purchase of the car.\n",
    "Owner: Information on a number of the previous owners.\n",
    "Fuel Type: Fuel type of car.\n",
    "Transmission: Transmission type of car.\n",
    "Insurance: Insurance information of the car.\n",
    "Car Condition: Current car condition. A rating out of 5.\n",
    "\n",
    "\n",
    "model_data.csv\n",
    "Model: Model name of the car that is sold.\n",
    "Current Price: Current price of the car."
   ]
  },
  {
   "cell_type": "code",
   "execution_count": 4,
   "metadata": {},
   "outputs": [
    {
     "name": "stdout",
     "output_type": "stream",
     "text": [
      "<class 'pandas.core.frame.DataFrame'>\n",
      "RangeIndex: 2237 entries, 0 to 2236\n",
      "Data columns (total 9 columns):\n",
      " #   Column             Non-Null Count  Dtype  \n",
      "---  ------             --------------  -----  \n",
      " 0   Model              2237 non-null   object \n",
      " 1   Selling Price      2237 non-null   int64  \n",
      " 2   Kilometers Driven  2237 non-null   int64  \n",
      " 3   Year               2237 non-null   int64  \n",
      " 4   Owner              2237 non-null   object \n",
      " 5   Fuel Type          2237 non-null   object \n",
      " 6   Transmission       2237 non-null   object \n",
      " 7   Insurance          2223 non-null   object \n",
      " 8   Car Condition      2237 non-null   float64\n",
      "dtypes: float64(1), int64(3), object(5)\n",
      "memory usage: 157.4+ KB\n"
     ]
    }
   ],
   "source": [
    "car_data.info()"
   ]
  },
  {
   "cell_type": "code",
   "execution_count": 5,
   "metadata": {},
   "outputs": [
    {
     "name": "stdout",
     "output_type": "stream",
     "text": [
      "<class 'pandas.core.frame.DataFrame'>\n",
      "RangeIndex: 434 entries, 0 to 433\n",
      "Data columns (total 2 columns):\n",
      " #   Column         Non-Null Count  Dtype \n",
      "---  ------         --------------  ----- \n",
      " 0   Model          434 non-null    object\n",
      " 1   Current Price  433 non-null    object\n",
      "dtypes: object(2)\n",
      "memory usage: 6.9+ KB\n"
     ]
    }
   ],
   "source": [
    "model_data.info()"
   ]
  },
  {
   "cell_type": "code",
   "execution_count": 6,
   "metadata": {},
   "outputs": [
    {
     "data": {
      "text/html": [
       "<div>\n",
       "<style scoped>\n",
       "    .dataframe tbody tr th:only-of-type {\n",
       "        vertical-align: middle;\n",
       "    }\n",
       "\n",
       "    .dataframe tbody tr th {\n",
       "        vertical-align: top;\n",
       "    }\n",
       "\n",
       "    .dataframe thead th {\n",
       "        text-align: right;\n",
       "    }\n",
       "</style>\n",
       "<table border=\"1\" class=\"dataframe\">\n",
       "  <thead>\n",
       "    <tr style=\"text-align: right;\">\n",
       "      <th></th>\n",
       "      <th>Model</th>\n",
       "      <th>Selling Price</th>\n",
       "      <th>Kilometers Driven</th>\n",
       "      <th>Year</th>\n",
       "      <th>Owner</th>\n",
       "      <th>Fuel Type</th>\n",
       "      <th>Transmission</th>\n",
       "      <th>Insurance</th>\n",
       "      <th>Car Condition</th>\n",
       "    </tr>\n",
       "  </thead>\n",
       "  <tbody>\n",
       "    <tr>\n",
       "      <th>0</th>\n",
       "      <td>MarutiWagonR1.0LXI</td>\n",
       "      <td>312165</td>\n",
       "      <td>82238</td>\n",
       "      <td>2014</td>\n",
       "      <td>First Owner</td>\n",
       "      <td>Petrol + CNG</td>\n",
       "      <td>MANUAL</td>\n",
       "      <td>Expired</td>\n",
       "      <td>4.2</td>\n",
       "    </tr>\n",
       "    <tr>\n",
       "      <th>1</th>\n",
       "      <td>ToyotaEtiosLiva</td>\n",
       "      <td>313799</td>\n",
       "      <td>30558</td>\n",
       "      <td>2013</td>\n",
       "      <td>First Owner</td>\n",
       "      <td>Petrol</td>\n",
       "      <td>MANUAL</td>\n",
       "      <td>12-09-2021</td>\n",
       "      <td>4.4</td>\n",
       "    </tr>\n",
       "    <tr>\n",
       "      <th>2</th>\n",
       "      <td>MarutiAlto800</td>\n",
       "      <td>295999</td>\n",
       "      <td>22164</td>\n",
       "      <td>2018</td>\n",
       "      <td>First Owner</td>\n",
       "      <td>Petrol</td>\n",
       "      <td>MANUAL</td>\n",
       "      <td>01-12-2020</td>\n",
       "      <td>4.8</td>\n",
       "    </tr>\n",
       "    <tr>\n",
       "      <th>3</th>\n",
       "      <td>MarutiSwift</td>\n",
       "      <td>435199</td>\n",
       "      <td>30535</td>\n",
       "      <td>2013</td>\n",
       "      <td>First Owner</td>\n",
       "      <td>Diesel</td>\n",
       "      <td>MANUAL</td>\n",
       "      <td>Comp</td>\n",
       "      <td>4.3</td>\n",
       "    </tr>\n",
       "    <tr>\n",
       "      <th>4</th>\n",
       "      <td>MarutiWagonR1.0</td>\n",
       "      <td>289099</td>\n",
       "      <td>15738</td>\n",
       "      <td>2013</td>\n",
       "      <td>First Owner</td>\n",
       "      <td>Petrol</td>\n",
       "      <td>MANUAL</td>\n",
       "      <td>11-08-2021</td>\n",
       "      <td>4.3</td>\n",
       "    </tr>\n",
       "  </tbody>\n",
       "</table>\n",
       "</div>"
      ],
      "text/plain": [
       "                Model  Selling Price  Kilometers Driven  Year        Owner  \\\n",
       "0  MarutiWagonR1.0LXI         312165              82238  2014  First Owner   \n",
       "1     ToyotaEtiosLiva         313799              30558  2013  First Owner   \n",
       "2       MarutiAlto800         295999              22164  2018  First Owner   \n",
       "3         MarutiSwift         435199              30535  2013  First Owner   \n",
       "4     MarutiWagonR1.0         289099              15738  2013  First Owner   \n",
       "\n",
       "      Fuel Type Transmission   Insurance  Car Condition  \n",
       "0  Petrol + CNG       MANUAL     Expired            4.2  \n",
       "1        Petrol       MANUAL  12-09-2021            4.4  \n",
       "2        Petrol       MANUAL  01-12-2020            4.8  \n",
       "3        Diesel       MANUAL        Comp            4.3  \n",
       "4        Petrol       MANUAL  11-08-2021            4.3  "
      ]
     },
     "execution_count": 6,
     "metadata": {},
     "output_type": "execute_result"
    }
   ],
   "source": [
    "car_data.head()"
   ]
  },
  {
   "cell_type": "code",
   "execution_count": 7,
   "metadata": {},
   "outputs": [
    {
     "data": {
      "text/html": [
       "<div>\n",
       "<style scoped>\n",
       "    .dataframe tbody tr th:only-of-type {\n",
       "        vertical-align: middle;\n",
       "    }\n",
       "\n",
       "    .dataframe tbody tr th {\n",
       "        vertical-align: top;\n",
       "    }\n",
       "\n",
       "    .dataframe thead th {\n",
       "        text-align: right;\n",
       "    }\n",
       "</style>\n",
       "<table border=\"1\" class=\"dataframe\">\n",
       "  <thead>\n",
       "    <tr style=\"text-align: right;\">\n",
       "      <th></th>\n",
       "      <th>Model</th>\n",
       "      <th>Current Price</th>\n",
       "    </tr>\n",
       "  </thead>\n",
       "  <tbody>\n",
       "    <tr>\n",
       "      <th>0</th>\n",
       "      <td>HyundaiElitei20Sportz(O)1.4CRDi</td>\n",
       "      <td>Rs.7.69 Lakh</td>\n",
       "    </tr>\n",
       "    <tr>\n",
       "      <th>1</th>\n",
       "      <td>MarutiErtigaZXISMARTHYBRID</td>\n",
       "      <td>Rs.9.27 Lakh</td>\n",
       "    </tr>\n",
       "    <tr>\n",
       "      <th>2</th>\n",
       "      <td>MarutiVitaraBrezzaLDI</td>\n",
       "      <td>Rs.7,62,742</td>\n",
       "    </tr>\n",
       "    <tr>\n",
       "      <th>3</th>\n",
       "      <td>FordEcosport1.5TITANIUMTIVCT</td>\n",
       "      <td>Rs.7.64 Lakh</td>\n",
       "    </tr>\n",
       "    <tr>\n",
       "      <th>4</th>\n",
       "      <td>HyundaiVernaFLUIDIC1.4CRDI</td>\n",
       "      <td>Rs.9,99,900</td>\n",
       "    </tr>\n",
       "  </tbody>\n",
       "</table>\n",
       "</div>"
      ],
      "text/plain": [
       "                             Model Current Price\n",
       "0  HyundaiElitei20Sportz(O)1.4CRDi  Rs.7.69 Lakh\n",
       "1       MarutiErtigaZXISMARTHYBRID  Rs.9.27 Lakh\n",
       "2            MarutiVitaraBrezzaLDI   Rs.7,62,742\n",
       "3     FordEcosport1.5TITANIUMTIVCT  Rs.7.64 Lakh\n",
       "4       HyundaiVernaFLUIDIC1.4CRDI   Rs.9,99,900"
      ]
     },
     "execution_count": 7,
     "metadata": {},
     "output_type": "execute_result"
    }
   ],
   "source": [
    "model_data.head()"
   ]
  },
  {
   "cell_type": "code",
   "execution_count": 8,
   "metadata": {},
   "outputs": [
    {
     "data": {
      "text/plain": [
       "434"
      ]
     },
     "execution_count": 8,
     "metadata": {},
     "output_type": "execute_result"
    }
   ],
   "source": [
    "len(car_data['Model'].unique())"
   ]
  },
  {
   "cell_type": "code",
   "execution_count": 9,
   "metadata": {},
   "outputs": [
    {
     "data": {
      "text/plain": [
       "434"
      ]
     },
     "execution_count": 9,
     "metadata": {},
     "output_type": "execute_result"
    }
   ],
   "source": [
    "len(model_data['Model'].unique())"
   ]
  },
  {
   "cell_type": "code",
   "execution_count": 10,
   "metadata": {},
   "outputs": [
    {
     "data": {
      "text/plain": [
       "False"
      ]
     },
     "execution_count": 10,
     "metadata": {},
     "output_type": "execute_result"
    }
   ],
   "source": [
    "model_data['Model'].duplicated().any()"
   ]
  },
  {
   "cell_type": "markdown",
   "metadata": {},
   "source": [
    "Since our datasets match, and there is no duplicated values in our model_data dataset we can performe an inner-join in our data.\n",
    "We will add the atribute 'Current Price' from our ´model_data´ dataset to our ´car_data´ dataset using the 'Model' atribute as a way to performe the inner-join."
   ]
  },
  {
   "cell_type": "code",
   "execution_count": 11,
   "metadata": {},
   "outputs": [],
   "source": [
    "car_data = pd.merge(car_data, model_data ,on='Model')"
   ]
  },
  {
   "cell_type": "code",
   "execution_count": 12,
   "metadata": {},
   "outputs": [
    {
     "data": {
      "text/html": [
       "<div>\n",
       "<style scoped>\n",
       "    .dataframe tbody tr th:only-of-type {\n",
       "        vertical-align: middle;\n",
       "    }\n",
       "\n",
       "    .dataframe tbody tr th {\n",
       "        vertical-align: top;\n",
       "    }\n",
       "\n",
       "    .dataframe thead th {\n",
       "        text-align: right;\n",
       "    }\n",
       "</style>\n",
       "<table border=\"1\" class=\"dataframe\">\n",
       "  <thead>\n",
       "    <tr style=\"text-align: right;\">\n",
       "      <th></th>\n",
       "      <th>Model</th>\n",
       "      <th>Selling Price</th>\n",
       "      <th>Kilometers Driven</th>\n",
       "      <th>Year</th>\n",
       "      <th>Owner</th>\n",
       "      <th>Fuel Type</th>\n",
       "      <th>Transmission</th>\n",
       "      <th>Insurance</th>\n",
       "      <th>Car Condition</th>\n",
       "      <th>Current Price</th>\n",
       "    </tr>\n",
       "  </thead>\n",
       "  <tbody>\n",
       "    <tr>\n",
       "      <th>0</th>\n",
       "      <td>MarutiWagonR1.0LXI</td>\n",
       "      <td>312165</td>\n",
       "      <td>82238</td>\n",
       "      <td>2014</td>\n",
       "      <td>First Owner</td>\n",
       "      <td>Petrol + CNG</td>\n",
       "      <td>MANUAL</td>\n",
       "      <td>Expired</td>\n",
       "      <td>4.2</td>\n",
       "      <td>Rs.4.65 Lakh</td>\n",
       "    </tr>\n",
       "    <tr>\n",
       "      <th>1</th>\n",
       "      <td>MarutiWagonR1.0LXI</td>\n",
       "      <td>242499</td>\n",
       "      <td>88514</td>\n",
       "      <td>2015</td>\n",
       "      <td>Second Owner</td>\n",
       "      <td>Petrol + CNG</td>\n",
       "      <td>MANUAL</td>\n",
       "      <td>26-07-2021</td>\n",
       "      <td>4.4</td>\n",
       "      <td>Rs.4.65 Lakh</td>\n",
       "    </tr>\n",
       "    <tr>\n",
       "      <th>2</th>\n",
       "      <td>MarutiWagonR1.0LXI</td>\n",
       "      <td>381699</td>\n",
       "      <td>29735</td>\n",
       "      <td>2017</td>\n",
       "      <td>Second Owner</td>\n",
       "      <td>Petrol + CNG</td>\n",
       "      <td>MANUAL</td>\n",
       "      <td>18-09-2021</td>\n",
       "      <td>4.3</td>\n",
       "      <td>Rs.4.65 Lakh</td>\n",
       "    </tr>\n",
       "    <tr>\n",
       "      <th>3</th>\n",
       "      <td>MarutiWagonR1.0LXI</td>\n",
       "      <td>181999</td>\n",
       "      <td>153709</td>\n",
       "      <td>2013</td>\n",
       "      <td>First Owner</td>\n",
       "      <td>Petrol + CNG</td>\n",
       "      <td>MANUAL</td>\n",
       "      <td>25-05-2021</td>\n",
       "      <td>4.1</td>\n",
       "      <td>Rs.4.65 Lakh</td>\n",
       "    </tr>\n",
       "    <tr>\n",
       "      <th>4</th>\n",
       "      <td>MarutiWagonR1.0LXI</td>\n",
       "      <td>239499</td>\n",
       "      <td>88691</td>\n",
       "      <td>2012</td>\n",
       "      <td>Second Owner</td>\n",
       "      <td>Petrol + CNG</td>\n",
       "      <td>MANUAL</td>\n",
       "      <td>15-10-2021</td>\n",
       "      <td>4.4</td>\n",
       "      <td>Rs.4.65 Lakh</td>\n",
       "    </tr>\n",
       "  </tbody>\n",
       "</table>\n",
       "</div>"
      ],
      "text/plain": [
       "                Model  Selling Price  Kilometers Driven  Year         Owner  \\\n",
       "0  MarutiWagonR1.0LXI         312165              82238  2014   First Owner   \n",
       "1  MarutiWagonR1.0LXI         242499              88514  2015  Second Owner   \n",
       "2  MarutiWagonR1.0LXI         381699              29735  2017  Second Owner   \n",
       "3  MarutiWagonR1.0LXI         181999             153709  2013   First Owner   \n",
       "4  MarutiWagonR1.0LXI         239499              88691  2012  Second Owner   \n",
       "\n",
       "      Fuel Type Transmission   Insurance  Car Condition Current Price  \n",
       "0  Petrol + CNG       MANUAL     Expired            4.2  Rs.4.65 Lakh  \n",
       "1  Petrol + CNG       MANUAL  26-07-2021            4.4  Rs.4.65 Lakh  \n",
       "2  Petrol + CNG       MANUAL  18-09-2021            4.3  Rs.4.65 Lakh  \n",
       "3  Petrol + CNG       MANUAL  25-05-2021            4.1  Rs.4.65 Lakh  \n",
       "4  Petrol + CNG       MANUAL  15-10-2021            4.4  Rs.4.65 Lakh  "
      ]
     },
     "execution_count": 12,
     "metadata": {},
     "output_type": "execute_result"
    }
   ],
   "source": [
    "car_data.head()"
   ]
  },
  {
   "cell_type": "code",
   "execution_count": 13,
   "metadata": {},
   "outputs": [
    {
     "data": {
      "text/html": [
       "<div>\n",
       "<style scoped>\n",
       "    .dataframe tbody tr th:only-of-type {\n",
       "        vertical-align: middle;\n",
       "    }\n",
       "\n",
       "    .dataframe tbody tr th {\n",
       "        vertical-align: top;\n",
       "    }\n",
       "\n",
       "    .dataframe thead th {\n",
       "        text-align: right;\n",
       "    }\n",
       "</style>\n",
       "<table border=\"1\" class=\"dataframe\">\n",
       "  <thead>\n",
       "    <tr style=\"text-align: right;\">\n",
       "      <th></th>\n",
       "      <th>Selling Price</th>\n",
       "      <th>Kilometers Driven</th>\n",
       "      <th>Year</th>\n",
       "      <th>Car Condition</th>\n",
       "    </tr>\n",
       "  </thead>\n",
       "  <tbody>\n",
       "    <tr>\n",
       "      <th>count</th>\n",
       "      <td>2.237000e+03</td>\n",
       "      <td>2237.000000</td>\n",
       "      <td>2237.000000</td>\n",
       "      <td>2237.000000</td>\n",
       "    </tr>\n",
       "    <tr>\n",
       "      <th>mean</th>\n",
       "      <td>4.184431e+05</td>\n",
       "      <td>61928.605275</td>\n",
       "      <td>2013.763523</td>\n",
       "      <td>4.370854</td>\n",
       "    </tr>\n",
       "    <tr>\n",
       "      <th>std</th>\n",
       "      <td>2.280516e+05</td>\n",
       "      <td>42260.955917</td>\n",
       "      <td>2.874686</td>\n",
       "      <td>0.288990</td>\n",
       "    </tr>\n",
       "    <tr>\n",
       "      <th>min</th>\n",
       "      <td>7.529900e+04</td>\n",
       "      <td>913.000000</td>\n",
       "      <td>2006.000000</td>\n",
       "      <td>3.000000</td>\n",
       "    </tr>\n",
       "    <tr>\n",
       "      <th>25%</th>\n",
       "      <td>2.720990e+05</td>\n",
       "      <td>32137.000000</td>\n",
       "      <td>2012.000000</td>\n",
       "      <td>4.200000</td>\n",
       "    </tr>\n",
       "    <tr>\n",
       "      <th>50%</th>\n",
       "      <td>3.557990e+05</td>\n",
       "      <td>55430.000000</td>\n",
       "      <td>2014.000000</td>\n",
       "      <td>4.300000</td>\n",
       "    </tr>\n",
       "    <tr>\n",
       "      <th>75%</th>\n",
       "      <td>5.032990e+05</td>\n",
       "      <td>83427.000000</td>\n",
       "      <td>2016.000000</td>\n",
       "      <td>4.600000</td>\n",
       "    </tr>\n",
       "    <tr>\n",
       "      <th>max</th>\n",
       "      <td>1.952397e+06</td>\n",
       "      <td>855881.000000</td>\n",
       "      <td>2020.000000</td>\n",
       "      <td>5.000000</td>\n",
       "    </tr>\n",
       "  </tbody>\n",
       "</table>\n",
       "</div>"
      ],
      "text/plain": [
       "       Selling Price  Kilometers Driven         Year  Car Condition\n",
       "count   2.237000e+03        2237.000000  2237.000000    2237.000000\n",
       "mean    4.184431e+05       61928.605275  2013.763523       4.370854\n",
       "std     2.280516e+05       42260.955917     2.874686       0.288990\n",
       "min     7.529900e+04         913.000000  2006.000000       3.000000\n",
       "25%     2.720990e+05       32137.000000  2012.000000       4.200000\n",
       "50%     3.557990e+05       55430.000000  2014.000000       4.300000\n",
       "75%     5.032990e+05       83427.000000  2016.000000       4.600000\n",
       "max     1.952397e+06      855881.000000  2020.000000       5.000000"
      ]
     },
     "execution_count": 13,
     "metadata": {},
     "output_type": "execute_result"
    }
   ],
   "source": [
    "car_data.describe()"
   ]
  },
  {
   "cell_type": "code",
   "execution_count": 14,
   "metadata": {},
   "outputs": [
    {
     "data": {
      "text/plain": [
       "63798     2\n",
       "63748     2\n",
       "115055    2\n",
       "8526      2\n",
       "37486     2\n",
       "         ..\n",
       "7349      1\n",
       "53106     1\n",
       "144078    1\n",
       "127472    1\n",
       "28016     1\n",
       "Name: Kilometers Driven, Length: 2221, dtype: int64"
      ]
     },
     "execution_count": 14,
     "metadata": {},
     "output_type": "execute_result"
    }
   ],
   "source": [
    "car_data['Kilometers Driven'].value_counts()"
   ]
  },
  {
   "cell_type": "code",
   "execution_count": 15,
   "metadata": {},
   "outputs": [
    {
     "name": "stdout",
     "output_type": "stream",
     "text": [
      "['MarutiWagonR1.0LXI' 'ToyotaEtiosLiva' 'MarutiAlto800' 'MarutiSwift'\n",
      " 'MarutiWagonR1.0' 'HyundaiElitei20ASTA1.2'\n",
      " 'HyundaiGrandi10SPORTZ1.2KAPPA' 'HyundaiElitei20ASTA' 'MarutiCelerio'\n",
      " 'MarutiSwiftDzireVXI1.2BS' 'MarutiDzire' 'HondaCivic1.8S'\n",
      " 'MarutiAltoK10VXI' 'MarutiAlto800LXI' 'HyundaiVernaFLUIDIC1.6EX'\n",
      " 'ToyotaEtiosCROSS1.4' 'HondaCitySVCVT' 'VolkswagenVentoHIGHLINE'\n",
      " 'Hyundaii20MAGNAO' 'VolkswagenPoloGT' 'MahindraTUV300'\n",
      " 'HondaAmaze1.5VCVT' 'TataNanoXT' 'RenaultKwid' 'MarutiAltoK10'\n",
      " 'HyundaiElitei20SPORTZ' 'MarutiZenEstilo' 'MarutiCelerioZXI'\n",
      " 'MarutiSwiftDzireVDIBS' 'MarutiBalenoALPHA1.2' 'MarutiSwiftVDI'\n",
      " 'TataTiagoXT1.2' 'MahindraBoleroPower+' 'HyundaiElitei20MAGNA1.4'\n",
      " 'MarutiSX4' 'MarutiBalenoDELTA1.2K12' 'MarutiSwiftVXI' 'HondaCityVMT'\n",
      " 'MahindraXUV500W8' 'HyundaiVENUE1.4CRDIMT' 'Hyundaii20MAGNAO1.4'\n",
      " 'FordEcosport1.5TITANIUMTI' 'Hyundaii10SPORTZ1.2' 'HondaBrio1.2VMTI'\n",
      " 'MarutiErtigaZXISMARTHYBRID' 'HondaCityVXMT' 'MahindraScorpioS6'\n",
      " 'HyundaiVENUE1.0LTurboGDISX(O)' 'HondaAccord2.4ATI' 'ToyotaCorollaAltis'\n",
      " 'VolkswagenPoloHIGHLINE1.2L' 'MarutiRitz' 'HyundaiVernaFLUIDIC1.6SXVTVT'\n",
      " 'HyundaiGrandi10SPORTS1.2' 'HondaCitySMT' 'HyundaiSantroXingGL'\n",
      " 'MarutiSwiftZDI' 'MarutiErtiga' 'MarutiCelerioVXI' 'MarutiAltoK10VXI(O)'\n",
      " 'Hyundaii10MAGNA' 'HyundaiElitei201.2MAGNAPLUS' 'HyundaiEonMAGNA'\n",
      " 'HondaCityV' 'MarutiAlto' 'MarutiBalenoDELTA1.2'\n",
      " 'HyundaiVernaFLUIDIC1.6SXCRDI' 'Hyundaii20MAGNA1.2'\n",
      " 'MarutiSwiftDzireLXI1.2BS' 'ToyotaEtios' 'NissanMicraXVPREMIUM'\n",
      " 'HyundaiGrandi10SPORTZ(O)1.2AT' 'MarutiWagonR1.0LXICNG'\n",
      " 'MarutiVitaraBrezza' 'HondaAmaze1.2SMTI' 'HyundaiVernaFLUIDIC1.6SX'\n",
      " 'HyundaiGrandi10ASTAAT1.2KAPPA' 'ToyotaInnova2.5GX8STRBS'\n",
      " 'HyundaiSantroXing' 'DatsunRediGo' 'HondaBrio1.2SMTI' 'HondaCity1.5V'\n",
      " 'RenaultLodgy110PSRXZ8' 'ChevroletCruzeLTZ' 'MarutiVitaraBrezzaZDI'\n",
      " 'HyundaiXcentS' 'FordEcosport1.5TITANIUM' 'ToyotaEtiosLivaGD'\n",
      " 'MarutiNewWagon-RLXI1.0' 'MarutiRitzVXIBS' 'MarutiRitzVXI'\n",
      " 'HyundaiGrandi10ERA1.2' 'HyundaiGrandi10MAGNA1.2' 'MarutiEeco5STRWITHAC'\n",
      " 'HyundaiSantroXingXOERLXEURO' 'MarutiCiazVDI' 'MarutiSwiftDzire'\n",
      " 'MarutiAStar' 'MahindraScorpio' 'RenaultDusterRXZ85PS' 'MarutiDzireVDI'\n",
      " 'DatsunGoREMIX' 'SkodaLauraAMBITION2.0TDICR' 'HondaCitySVMT'\n",
      " 'HyundaiVerna1.6SX(O)CRDI' 'VolkswagenPoloCOMFORTLINE1.2L'\n",
      " 'MarutiBalenoDELTADDIS' 'ToyotaEtiosVX' 'MahindraKuv100K6D6'\n",
      " 'MarutiErtigaVDI' 'HyundaiCreta1.6SX' 'MarutiSwiftDzireLDIBS'\n",
      " 'HyundaiEonERA' 'MarutiCiazZETA1.5SHVSVVT' 'Hyundaii20ASTA1.4'\n",
      " 'VolkswagenJettaCOMFORTLINE2.0L' 'Hyundaii10SPORTZ1.2AT'\n",
      " 'VolkswagenPoloCOMFORTLINE1.5L' 'SkodaRapid1.5TDIMT'\n",
      " 'RenaultDusterRXLAMT110' 'TataHexaVaricor400' 'MarutiSCrossZETA'\n",
      " 'MarutiEeco5STRCNGWITHAC' 'ToyotaCorollaAltisVL' 'Hyundaii10MAGNA1.2'\n",
      " 'MarutiWagonR' 'FordFigo1.2ZXI' 'MarutiNewWagon-RVXI'\n",
      " 'MahindraTharCRDE4X4BS' 'HondaCityVXMTO' 'Hyundaii20ASTA'\n",
      " 'MarutiIGNISDELTA1.2K12' 'AudiQ335TDI' 'HyundaiVernaFLUIDIC1.6EXCRDI'\n",
      " 'FordEcosport1.5TITANIUMTIVCT' 'DatsunGo' 'HondaAmaze1.2EMTI'\n",
      " 'BMW3Series320D' 'Hyundaii10MAGNA1.1' 'HyundaiCreta1.6SXPLUS'\n",
      " 'FordEcosport' 'HondaCityZX1.5' 'Hyundaii20SPORTZ1.2'\n",
      " 'MarutiVitaraBrezzaZDIPLUSDUAL' 'SkodaSuperbELEGANCE1.8TSI'\n",
      " 'MarutiSwiftLXI' 'HyundaiSantroXingXLERLXEURO'\n",
      " 'HyundaiGrandi10ASTA1.1(O)' 'AudiA62.0' 'HyundaiCreta1.6E+'\n",
      " 'RenaultDuster85PS' 'MarutiOMNIE8' 'HyundaiEonDLITE' 'HondaAmaze1.2EXMTI'\n",
      " 'FordFigo1.4EXI' 'MarutiCiazZXI' 'HyundaiElitei20ASTA1.4'\n",
      " 'ChevroletBeatPS' 'HondaBrio1.2VXMTI' 'ToyotaInnova2.5VX8STRBS'\n",
      " 'MarutiCiazDELTA1.5SHVS' 'ToyotaCorollaAltisD4D'\n",
      " 'HyundaiGrandi10Sportz1.2' 'MarutiSX4ZXIMTLEATHERBS' 'SkodaRapid1.6TDIMT'\n",
      " 'Hyundaii10' 'ToyotaFortuner3.0MT' 'VolkswagenPoloTRENDLINE1.2L'\n",
      " 'HyundaiGrandi10MAGNA1.2KAPPA' 'BMW5Series' 'FordEcosport1.5TITANIUMTDCI'\n",
      " 'ToyotaCorollaAltis1.8' 'TataTIAGOJTP' 'MarutiBalenoALPHADDIS'\n",
      " 'FordFigo1.2TITANIUM' 'MarutiBalenoZETA1.2' 'HondaAmaze1.5SMTI'\n",
      " 'SkodaFabiaELEGANCE1.2' 'RenaultKwidRXT' 'HondaAmaze1.2VXMTI'\n",
      " 'RenaultKwidRXT1.0EASY-R' 'MarutiAltoK10LXI' 'MahindraXUV500'\n",
      " 'VolkswagenPoloHIGHLINE1.5L' 'HondaAmaze1.5SXMTI'\n",
      " 'MarutiCiazDELTA1.5SHVSVVT' 'BMWX1SDRIVE' 'TataTiagoXZ1.05'\n",
      " 'MarutiRitzVXIABS' 'ToyotaCorollaH31.8' 'TataNEXONXZ+'\n",
      " 'HyundaiCreta1.6CRDISXPLUS' 'FiatGrandPuntoACTIVE' 'HondaAmaze1.5EMTI'\n",
      " 'MarutiSwiftLDIBS' 'MarutiEeco7' 'HyundaiXcentSX' 'HyundaiXcentS1.2'\n",
      " 'RenaultKwidCLIMBER1.0' 'TataTiagoXZ1.2' 'Hyundaii20SPORTZO1.4'\n",
      " 'TataNEXONXM' 'HondaCity1.5EMT' 'HyundaiAccentEXECUTIVE'\n",
      " 'MarutiSCrossSIGMA' 'RenaultKwidRXT1.0EASY-RAT' 'MarutiVitaraBrezzaZDI+'\n",
      " 'MarutiDzireVXI' 'RenaultDusterRXZAMT110' 'FordNewFigo1.5TITANIUMAT'\n",
      " 'SkodaSuperbELEGANCETDI2.0' 'MarutiCelerioVXI(O)' 'MarutiSwiftZXI'\n",
      " 'MarutiSwiftDzireZXI1.2BS' 'MarutiWagonRVXIBS' 'BMW3Series'\n",
      " 'MarutiWagonR1.0VXI' 'TataNanoTWIST' 'HyundaiGrandi10SPORTZ1.1'\n",
      " 'MercedesBenzGLAClass200CDI' 'HyundaiElitei20SPORTZ(O)'\n",
      " 'Hyundaii20Active1.2' 'TataIndicaVistaAURA1.3' 'MarutiEeco5STRCNGWITH'\n",
      " 'MarutiWagonRStingray' 'Hyundaii10SPORTZ1.1' 'FordEcosport1.5TREND'\n",
      " 'HondaJazz1.2SV' 'SkodaRapidELEGANCE1.6MPFI' 'HyundaiVerna1.6SXVTVTAT'\n",
      " 'HondaCivic1.8V' 'HyundaiEon' 'MarutiErtigaVXISMART'\n",
      " 'HyundaiCreta1.4EPLUS' 'MarutiCiazZETA1.4' 'MarutiSwiftDzireVDI'\n",
      " 'RenaultKwidRXL1.0EASY-R' 'HondaAmaze1.5VXMTI' 'HondaJazz1.2V'\n",
      " 'HondaJazz1.2BASEI' 'HyundaiGrandi101.2ASTA(O)' 'MarutiSwiftVDIGlory'\n",
      " 'DatsunRediGoT' 'MarutiIGNISZETA1.2K12' 'HondaCityVXCVT' 'HondaBrio1.2V'\n",
      " 'HyundaiNEWSANTROASTA1.1' 'FordEcosport1.5AMBIENTE'\n",
      " 'MarutiVitaraBrezzaLDI' 'ToyotaEtiosLivaD4D' 'MarutiCelerioX'\n",
      " 'FordEcosport1.0ECOBOOST' 'VolkswagenVentoHIGHLINETDI'\n",
      " 'ToyotaFortuner3.0AT' 'MarutiRitzZXI' 'Hyundaii10ERA1.1'\n",
      " 'RenaultDuster85PSRXL' 'RenaultDusterRXZDIESEL' 'HondaBrio1.2VXATI'\n",
      " 'MarutiErtigaVXI' 'HyundaiGrandi10ASTA1.2KAPPA'\n",
      " 'VolkswagenVentoHIGHLINE1.2TSI' 'MarutiIGNISDELTA1.2'\n",
      " 'HyundaiGrandi10Sportz(O)1.2' 'MarutiVitaraBrezzaVDI' 'ChevroletSparkLS'\n",
      " 'ToyotaInnova2.5VX7STRBS' 'MarutiNewWagon-R1.0Lxi(o)' 'Hyundaii10SPORTZ'\n",
      " 'MarutiSwiftDzireVXI' 'MarutiBalenoSIGMA1.2'\n",
      " 'VolkswagenPoloTrendline1.0L' 'ToyotaInnovaCrysta2.4GX8'\n",
      " 'MahindraXUV500W6' 'ToyotaEtiosLivaD4DGD' 'HondaBrio1.2EXMTI'\n",
      " 'HyundaiGrandi10ASTA1.2AT' 'SkodaFabiaAMBIENTE1.2' 'Hyundaii20SPORTZ1.4'\n",
      " 'VolkswagenVentoHIGHLINEPETROL' 'MarutiSwiftZXI+BS' 'NissanTerranoXL110'\n",
      " 'HyundaiElitei201.4CRDIASTA' 'SkodaRapid1.5TDIAT'\n",
      " 'HyundaiVernaFLUIDIC1.4CRDI' 'HyundaiGrandi10SPORTZO' 'RenaultKwid1.0RXT'\n",
      " 'MahindraXUV500W11' 'HyundaiNewElantraS1.6' 'NissanSunnyXV'\n",
      " 'Hyundaii10ASTA1.2ATKAPPA2WITH' 'FordEcosport1.5TDCITITANIUM'\n",
      " 'NissanTerranoXLPLUS85PS' 'SkodaRapid1.5ACTIVETDI'\n",
      " 'MarutiCiazALPHA1.5ATVTVT' 'HyundaiVernaFLUIDIC1.6CRDISX'\n",
      " 'TataIndicaVistaVX' 'HyundaiVernaFLUIDIC1.4' 'SkodaRapid1.6TDIMTAMBITION'\n",
      " 'MarutiSwiftVXILIMITED' 'HyundaiXcentSX1.1CRDI'\n",
      " 'VolkswagenVentoTRENDLINE' 'TataNEXONXMA' 'HondaWR-V1.2i-VTECVX'\n",
      " 'TataTiagoXZA1.2' 'MahindraScorpioSLEBS' 'MahindraMARAZZOM87'\n",
      " 'HondaAmaze1.2VCVTI' 'MarutiCiazDELTA1.3DDIS' 'MarutiCiazVDI+'\n",
      " 'HyundaiGrandi10Magna1.2AT' 'HyundaiNEWSANTRO1.1MAGNACNG' 'ToyotaEtiosGD'\n",
      " 'HondaBR-V1.5i-VTEC' 'MarutiCiazZDISHVS' 'HondaMobilio1.5VI'\n",
      " 'RenaultKwid1.0' 'ToyotaInnova2.5GX7STRBS' 'MGHECTORSHARPDCT'\n",
      " 'MarutiCiazALPHA1.3DDIS' 'ToyotaCorollaH21.8' 'MarutiNewWagon-R1.0LXI'\n",
      " 'Hyundaii10ASTA1.2' 'MahindraXUV3OO' 'Hyundaii20MAGNA1.4'\n",
      " 'RenaultDusterRXZ110' 'FordEcosport1.5TITANIUMPLUSTIVCT'\n",
      " 'TataTIGORRevotron' 'MarutiNewWagon-RLXICNG1.0' 'HyundaiSantroXingGLS'\n",
      " 'VolkswagenJettaTRENDLINE2.0L' 'NissanTerranoXLOPT85'\n",
      " 'HyundaiVernaFLUIDIC1.6CRDISXOPT' 'MercedesBenzEClassE250'\n",
      " 'MarutiEeco5STRWITHACPLUS' 'HyundaiCreta1.6SXAT' 'AudiA62.0TDIPREMIUM'\n",
      " 'HondaAmaze1.2SATI' 'HyundaiCreta1.6SX(O)' 'VolkswagenVentoCOMFORTLINEMT'\n",
      " 'HondaCityZX1.5VTEC' 'HyundaiElitei20ASTA1.2DUAL'\n",
      " 'VolkswagenVentoCOMFORTLINE' 'VolkswagenPoloHIGHLINE1.6L'\n",
      " 'HondaMobilio1.5SI' 'FordFiestaTREND'\n",
      " 'HyundaiGrandi10SPORTZ1.1CRDISPECIAL' 'SkodaLauraELEGANCE2.0TDICR'\n",
      " 'MarutiCiazALPHA1.5MTVVT' 'HyundaiCreta1.4S' 'HyundaiXcentSX1.1'\n",
      " 'HyundaiNEWSANTROSPORTZ' 'HyundaiGrandi10SPORTZAT1.2KAPPA'\n",
      " 'NissanSunnyXL' 'HyundaiElitei201.2SPORTSPLUS' 'MarutiWagonR1.0VXI+(O)'\n",
      " 'SsangyongRexton' 'MarutiSwiftZXIPLUS' 'HondaCityVX(O)'\n",
      " 'SkodaRapid1.5TDIMTAmbition' 'HondaAmaze1.2VMT' 'HyundaiVerna'\n",
      " 'HondaMobilio1.5VOPTI' 'ToyotaInnovaCrysta2.8ZXAT7' 'Hyundaii20ERA'\n",
      " 'MarutiWagonR1.0LXICNGLIMITED' 'MahindraXUV500W10'\n",
      " 'SkodaSuperb1.8TSISTYLE' 'ToyotaInnovaCrysta2.4VX8' 'RenaultKwidCLIMBER'\n",
      " 'MarutiCiazZDI+' 'ToyotaInnovaCrysta2.4VX7'\n",
      " 'HyundaiElitei20Sportz(O)1.4CRDi' 'ToyotaYARISJ' 'MarutiErtigaZDIPLUS'\n",
      " 'MarutiWagonRDuoLXI' 'HyundaiGRANDI10NIOSSPORTZ1.2' 'HondaCRV2.4AT4WD'\n",
      " 'MarutiDzireZXI' 'VolkswagenPassatHIGHLINE' 'MarutiWagonR1.0VXIOPT'\n",
      " 'ToyotaEtiosLivaG' 'JeepCompassLIMITED1.4' 'MarutiCiaz' 'MarutiAltoLXI'\n",
      " 'TataNano' 'HyundaiVENUESMT1.2' 'MarutiSwiftVXI1.3'\n",
      " 'HyundaiVENUE1.0LTurboGDISX' 'SkodaLauraAMBIENTE2.0TDICR'\n",
      " 'TataZestXMAQUADRAJET' 'VolkswagenPoloGTTSI1.2PETROL' 'MarutiAStarVXIABS'\n",
      " 'MarutiCelerioZXIOPT' 'MahindraMARAZZOM28' 'HyundaiElitei20ERA'\n",
      " 'FordFigoAspire1.5TREND' 'MarutiEeco5' 'HyundaiVENUE1.0TURBOGDISX+'\n",
      " 'MahindraTUV300T8' 'TataTiagoXT1.05' 'HondaCityZX'\n",
      " 'HyundaiTucsonNew2WDATGLS' 'MercedesBenzCClass220EDITION'\n",
      " 'HyundaiEonERAPLUS' 'RenaultDusterRXLDIESEL' 'MarutiAltoK10K10VXI'\n",
      " 'MarutiSwiftDzireZXI' 'HyundaiCreta1.6SXPLUSAUTO'\n",
      " 'HyundaiVernaFLUIDIC1.6SXVTVTOPT' 'MarutiBalenoZETA1.2K12'\n",
      " 'HondaAmaze1.5EXMTI' 'FordFigoAspire1.5TITANIUM'\n",
      " 'MarutiSwiftDzireVXIRegalLimited' 'HondaBrio1.2EMTI'\n",
      " 'MarutiBalenoZETADDIS' 'MahindraKuv100K46' 'HyundaiElitei20MAGNA'\n",
      " 'ToyotaEtiosLivaV' 'ToyotaInnovaCrysta2.4GX7' 'SkodaRapidELEGANCE1.6TDI'\n",
      " 'ToyotaCorollaHE1.8' 'ToyotaCorollaAltisJ' 'HyundaiCreta1.6'\n",
      " 'FordFigoAspire1.2AMBIENTE' 'ToyotaEtiosCROSS' 'FiatGrandPuntoDYNAMIC'\n",
      " 'FordFigo1.2EXI' 'JeepCompass2.0LIMITED' 'NissanMicraXEPLUS'\n",
      " 'ToyotaInnova2.5V' 'FordEcosport1.5TRENDTI'\n",
      " 'HyundaiElitei20MagnaExecutive' 'HyundaiEonD']\n",
      "['First Owner' 'Second Owner' 'Third Owner']\n",
      "['Petrol + CNG' 'Petrol' 'Diesel' 'Petrol + LPG']\n",
      "['MANUAL' 'MH12' 'TS07' 'KA01' 'MH05' 'DL5C' 'DL9C' 'MH04' 'TS08'\n",
      " 'AUTOMATIC' 'UP14' 'UP32' 'HR03' 'MH01' 'DL2C' 'KA05' 'KA50' 'KA53'\n",
      " 'DL12' 'DL11' 'GJ27' 'TN12' 'TN02' 'HR26' 'MH03' 'MH47' 'TS09' 'RJ14'\n",
      " 'TN06' 'MH43' 'DL4C' 'KA02' 'MH02' 'RJ45' 'DL3C' 'TN22' 'KA04' 'MH46'\n",
      " 'KA51' 'PB91' 'DL8C' 'GJ18' 'HR51' 'DL10' 'HR29' 'KA03' 'DL14' 'GJ05'\n",
      " 'GJ01' 'PB10' 'MH14' 'UP78' 'GJ06' 'Ch01' 'HR05' 'HR12' 'DL1C' 'PB11']\n",
      "['Expired' '26-07-2021' '18-09-2021' '25-05-2021' '15-10-2021'\n",
      " '02-02-2021' '28-07-2021' '22-11-2022' '20-07-2021' 'Comp' '27-01-2021'\n",
      " '18-11-2021' '14-04-2021' '16-08-2021' '10-09-2020' '06-05-2021'\n",
      " '11-06-2021' '27-09-2021' '08-10-2020' '09-10-2021' '02-08-2021'\n",
      " '29-05-2021' '01-02-2021' '10-08-2021' '15-01-2021' '04-05-2021'\n",
      " '31-01-2022' '11-09-2021' '14-10-2021' '24-02-2021' '20-12-2021'\n",
      " '27-08-2021' '04-11-2021' '08-03-2021' '22-10-2021' '14-02-2021'\n",
      " '04-04-2021' '05-02-2021' '15-07-2021' '12-09-2021' '23-07-2021'\n",
      " '17-11-2021' '17-06-2021' '30-05-2021' '05-09-2020' '30-06-2021'\n",
      " '27-07-2021' '20-06-2021' '27-11-2021' '17-05-2021' '01-12-2020'\n",
      " '17-04-2021' '29-10-2021' '08-04-2021' '30-12-2020' '15-11-2021'\n",
      " '12-12-2021' '05-07-2021' '02-02-2020' '08-09-2021' '29-06-2021'\n",
      " '01-12-2021' '27-10-2021' '24-05-2020' '09-08-2021' '11-01-2022'\n",
      " '01-04-2021' '13-03-2021' '17-09-2021' '02-11-2021' '27-03-2021'\n",
      " '31-07-2021' '02-09-2021' '14-01-2022' '03-11-2021' '02-01-2022'\n",
      " '30-11-2021' '22-07-2021' '27-06-2021' '14-03-2021' '14-07-2021'\n",
      " '18-06-2021' '14-06-2021' '10-01-2022' '12-05-2021' '28-03-2021'\n",
      " '11-02-2022' '03-07-2021' '19-05-2021' '29-12-2021' '15-04-2021'\n",
      " '17-02-2021' '03-08-2021' '22-02-2021' '30-07-2021' '13-12-2021'\n",
      " '18-04-2021' '11-11-2021' '28-01-2022' '23-04-2022' '01-08-2021'\n",
      " '14-01-2021' '15-09-2021' '01-11-2021' '08-01-2022' '21-05-2021'\n",
      " '28-12-2021' '12-02-2021' '24-11-2021' '19-12-2021' '09-08-2022'\n",
      " '30-01-2021' '17-10-2021' '18-12-2020' '01-01-2021' '27-12-2021'\n",
      " '18-10-2021' '15-01-2022' '23-10-2021' '26-09-2021' '11-09-2020'\n",
      " '09-05-2021' '30-09-2021' '12-11-2021' '11-12-2020' '01-07-2021'\n",
      " '27-07-2022' '19-03-2021' '16-02-2021' '22-05-2021' '26-06-2021'\n",
      " '14-12-2021' '06-08-2021' '23-03-2021' '30-10-2021' '13-08-2021'\n",
      " '07-02-2021' '19-02-2021' '17-07-2021' '07-07-2021' '21-06-2021'\n",
      " '12-06-2021' '02-01-2021' '06-06-2021' '26-02-2021' '11-03-2021'\n",
      " '22-03-2021' 'Insurance Expired' '20-01-2021' '07-03-2021' '10-03-2021'\n",
      " '24-01-2022' '23-12-2021' '14-11-2021' '04-03-2021' '19-06-2021'\n",
      " '18-07-2021' '04-10-2021' '07-12-2021' '09-09-2021' '29-03-2021'\n",
      " '13-05-2021' '08-01-2021' '24-03-2021' '03-06-2021' '16-05-2021'\n",
      " '13-10-2021' '24-04-2021' '29-08-2021' '06-03-2021' '03-03-2021'\n",
      " '11-08-2021' '07-09-2021' '05-03-2021' '18-05-2021' '24-10-2021'\n",
      " '23-01-2021' '30-12-2021' '23-09-2021' '05-01-2021' '07-08-2021'\n",
      " '13-07-2021' '10-06-2021' '29-09-2021' '29-07-2021' '11-07-2021'\n",
      " '16-04-2021' '18-11-2020' '06-02-2021' '10-10-2021' '05-01-2022'\n",
      " '28-05-2021' '16-11-2021' '05-10-2021' '01-01-2022' '16-03-2021'\n",
      " '17-08-2021' '29-04-2021' '26-08-2021' '20-02-2021' '17-03-2021'\n",
      " '12-03-2021' '31-08-2021' '25-08-2021' '31-10-2021' '26-05-2021'\n",
      " '19-08-2021' '28-02-2021' '23-06-2020' '02-07-2021' '16-07-2021'\n",
      " '09-02-2021' '11-04-2021' '10-07-2021' '04-12-2021' '20-11-2021'\n",
      " '29-01-2022' '27-02-2021' '24-06-2021' '18-01-2022' '08-05-2021'\n",
      " '06-04-2021' '05-08-2021' '13-09-2021' '15-12-2021' '04-07-2021'\n",
      " '18-02-2021' '20-10-2021' '19-04-2021' '21-10-2021' '07-01-2022'\n",
      " '23-05-2021' '24-01-2021' '01-05-2021' '25-03-2021' '03-02-2021'\n",
      " '26-03-2021' '10-04-2021' '21-09-2021' '04-02-2021' '17-11-2020'\n",
      " '25-07-2021' '20-09-2020' '27-09-2022' '08-12-2021' '23-08-2021' nan\n",
      " '16-10-2021' '06-01-2021' '09-01-2022' '10-11-2021' '09-01-2021'\n",
      " '24-07-2021' '19-09-2021' '19-01-2021' '25-11-2021' '25-10-2021'\n",
      " '08-10-2021' '15-02-2021' '21-11-2021' '11-05-2021' '06-12-2021'\n",
      " '22-01-2021' '05-05-2021' '20-09-2021' '30-03-2021' '06-09-2021'\n",
      " '07-01-2021' '20-10-2020' '07-10-2021' '24-08-2021' 'Third_party'\n",
      " '12-04-2021' '26-11-2021' '02-06-2021' '13-11-2021' '03-04-2021'\n",
      " '28-09-2021' '22-09-2021' '05-06-2021' '08-08-2021' '21-07-2021'\n",
      " '18-01-2021' '30-12-2019' '14-01-2023' '02-05-2021' '24-09-2021'\n",
      " '31-03-2021' '22-01-2022' '21-03-2021' '29-11-2021' '22-08-2021'\n",
      " '25-09-2021' '10-01-2021' '19-07-2021' '09-04-2021' '23-11-2021'\n",
      " '16-01-2021' '05-11-2021' '01-06-2021' '13-04-2021' '05-09-2021'\n",
      " '13-06-2021' '12-10-2021' '27-01-2022' '20-08-2021' '03-01-2021'\n",
      " '21-12-2021' '19-10-2021' '14-05-2021' '13-11-2020' '24-05-2021'\n",
      " '28-06-2021' '26-12-2021' '09-11-2021' '22-11-2021' '20-03-2021'\n",
      " '21-02-2021' '08-02-2021' '09-12-2021' '30-04-2021' '28-10-2021'\n",
      " '22-12-2021' '10-05-2021' '09-03-2021' '30-08-2021' '21-08-2022'\n",
      " '01-03-2021' '09-12-2020' '21-04-2021' '27-12-2020' '15-06-2021'\n",
      " '26-04-2021' 'Zero_Dep' '16-12-2021' '29-01-2021' '21-03-2020'\n",
      " '12-07-2021' '03-05-2021' '02-04-2021' '04-08-2021' '28-08-2021'\n",
      " '24-11-2020' '07-05-2021' '07-11-2021' '02-12-2021' '08-06-2021'\n",
      " '20-05-2021' '09-07-2021' '05-04-2021' '25-02-2021' '06-11-2021'\n",
      " '04-01-2021' '21-01-2021' '23-02-2021' '04-09-2021' '03-02-2022'\n",
      " '11-02-2021' '20-12-2020' '14-09-2021' '29-11-2020' '21-01-2022'\n",
      " '08-11-2020' '18-08-2021' '18-03-2021' '11-01-2021' '06-07-2021'\n",
      " '27-08-2022' '02-03-2021' '28-11-2021' '31-12-2021' '20-06-2022'\n",
      " '03-09-2021' '25-12-2020' 'Zero Depreciation' '27-04-2021' '28-04-2021'\n",
      " '10-12-2021' '22-06-2021' '26-01-2021' '15-11-2020' '23-06-2021'\n",
      " '29-09-2022' '20-04-2021' '15-05-2021' '11-12-2021' '15-02-2022'\n",
      " '01-11-2020' '31-01-2021' '25-04-2021' '3rd Party' '12-09-2022'\n",
      " '06-01-2023' '29-12-2022' '21-08-2021' '07-03-2020' '30-12-2022'\n",
      " '16-06-2021' '23-12-2020' '23-01-2022' '29-12-2020' '18-08-2020'\n",
      " '16-09-2021' '16-12-2020' '06-10-2021' '31-12-2020' '05-02-2022'\n",
      " '25-06-2021' '11-10-2021' '10-02-2021' '12-08-2021' '25-01-2021'\n",
      " '15-03-2021' '03-03-2023' '06-12-2020' '06-01-2022' '08-11-2021'\n",
      " '25-12-2021' '27-03-2022' '18-12-2021' '20-02-2022' '11-10-2020'\n",
      " '05-12-2020' 'Comprehensive' '31-05-2021' '03-12-2021' '17-01-2021'\n",
      " '01-09-2021' '08-02-2022' '02-08-2022' '03-10-2021' '12-01-2021'\n",
      " '04-06-2021' '29-08-2022' '08-12-2020' '17-12-2021' '12-01-2022'\n",
      " '19-02-2020' '02-10-2021' '07-12-2020' '07-04-2021' '16-01-2022'\n",
      " '28-12-2020' '17-12-2020' '15-08-2021' '07-11-2020' '07-06-2021'\n",
      " '07-01-2023' '30-03-2022' '27-05-2021' '08-07-2020' '04-12-2020'\n",
      " '26-11-2020' '28-11-2020' '21-12-2020' '04-01-2022' '05-12-2021'\n",
      " '13-12-2020' '08-07-2021' '02-08-2020' '30-09-2020' '13-02-2021'\n",
      " '13-01-2021' '03-01-2022' '09-06-2021' '18-03-2022' '10-09-2021'\n",
      " '13-06-2020' '05-08-2020' '29-10-2022' '01-02-2022' '28-09-2020'\n",
      " '20-07-2020' '20-11-2020']\n"
     ]
    }
   ],
   "source": [
    "# Looking ate the unique values of categorical features\n",
    "print(car_data['Model'].unique())\n",
    "print(car_data['Owner'].unique())\n",
    "print(car_data['Fuel Type'].unique())\n",
    "print(car_data['Transmission'].unique())\n",
    "print(car_data['Insurance'].unique())"
   ]
  },
  {
   "cell_type": "code",
   "execution_count": 16,
   "metadata": {},
   "outputs": [
    {
     "data": {
      "text/plain": [
       "Model                 0\n",
       "Selling Price         0\n",
       "Kilometers Driven     0\n",
       "Year                  0\n",
       "Owner                 0\n",
       "Fuel Type             0\n",
       "Transmission          0\n",
       "Insurance            14\n",
       "Car Condition         0\n",
       "Current Price         2\n",
       "dtype: int64"
      ]
     },
     "execution_count": 16,
     "metadata": {},
     "output_type": "execute_result"
    }
   ],
   "source": [
    "car_data.isnull().sum()"
   ]
  },
  {
   "cell_type": "markdown",
   "metadata": {},
   "source": [
    "Lets delete the 2 Current Price which are null. "
   ]
  },
  {
   "cell_type": "code",
   "execution_count": 17,
   "metadata": {},
   "outputs": [
    {
     "name": "stdout",
     "output_type": "stream",
     "text": [
      "Shape of car_data before dropping Rows with NULL values in Current Price :  (2237, 10)\n",
      "Shape of car_data after dropping Rows with NULL values in Current Price :  (2235, 10)\n",
      "Shape of car_data after changing Rows with NULL values in Insurance to 0:  (2235, 10)\n"
     ]
    }
   ],
   "source": [
    "print(\"Shape of car_data before dropping Rows with NULL values in Current Price : \",car_data.shape)\n",
    "car_data = car_data[car_data['Current Price'].notna()]\n",
    "print(\"Shape of car_data after dropping Rows with NULL values in Current Price : \",car_data.shape)\n",
    "\n",
    "car_data['Insurance'] = car_data['Insurance'].fillna(0)\n",
    "print(\"Shape of car_data after changing Rows with NULL values in Insurance to 0: \",car_data.shape)\n"
   ]
  },
  {
   "cell_type": "markdown",
   "metadata": {},
   "source": [
    "Checking if we have any null values left to treat:"
   ]
  },
  {
   "cell_type": "code",
   "execution_count": 18,
   "metadata": {},
   "outputs": [
    {
     "data": {
      "text/plain": [
       "Model                0\n",
       "Selling Price        0\n",
       "Kilometers Driven    0\n",
       "Year                 0\n",
       "Owner                0\n",
       "Fuel Type            0\n",
       "Transmission         0\n",
       "Insurance            0\n",
       "Car Condition        0\n",
       "Current Price        0\n",
       "dtype: int64"
      ]
     },
     "execution_count": 18,
     "metadata": {},
     "output_type": "execute_result"
    }
   ],
   "source": [
    "car_data.isnull().sum()"
   ]
  },
  {
   "cell_type": "markdown",
   "metadata": {},
   "source": []
  },
  {
   "cell_type": "markdown",
   "metadata": {},
   "source": [
    "Now we need to fix the absent indexes brought upon by using the .notna() (e.g. if the row number 69 was dropped then the row after number 68 would have the index 70):"
   ]
  },
  {
   "cell_type": "code",
   "execution_count": 19,
   "metadata": {},
   "outputs": [
    {
     "name": "stdout",
     "output_type": "stream",
     "text": [
      "(2235, 10)\n",
      "(2235, 10)\n"
     ]
    }
   ],
   "source": [
    "print(car_data.shape)\n",
    "car_data = car_data.reset_index(drop=True)\n",
    "print(car_data.shape)"
   ]
  },
  {
   "cell_type": "code",
   "execution_count": null,
   "metadata": {},
   "outputs": [
    {
     "ename": "Error",
     "evalue": "Session cannot generate requests",
     "output_type": "error",
     "traceback": [
      "Error: Session cannot generate requests",
      "at S.executeCodeCell (c:\\Users\\luisn\\.vscode\\extensions\\ms-toolsai.jupyter-2021.10.1101450599\\out\\client\\extension.js:66:301742)",
      "at S.execute (c:\\Users\\luisn\\.vscode\\extensions\\ms-toolsai.jupyter-2021.10.1101450599\\out\\client\\extension.js:66:300732)",
      "at S.start (c:\\Users\\luisn\\.vscode\\extensions\\ms-toolsai.jupyter-2021.10.1101450599\\out\\client\\extension.js:66:296408)",
      "at processTicksAndRejections (internal/process/task_queues.js:93:5)",
      "at async t.CellExecutionQueue.executeQueuedCells (c:\\Users\\luisn\\.vscode\\extensions\\ms-toolsai.jupyter-2021.10.1101450599\\out\\client\\extension.js:66:312326)",
      "at async t.CellExecutionQueue.start (c:\\Users\\luisn\\.vscode\\extensions\\ms-toolsai.jupyter-2021.10.1101450599\\out\\client\\extension.js:66:311862)"
     ]
    }
   ],
   "source": [
    "sns.distplot(car_data['Selling Price'])\n",
    "plt.show()"
   ]
  },
  {
   "cell_type": "code",
   "execution_count": null,
   "metadata": {},
   "outputs": [],
   "source": []
  }
 ],
 "metadata": {
  "interpreter": {
   "hash": "da5a697948289f9b6919f7fc38b1c6a95325d1251b446a22e569f8cf4f1d824e"
  },
  "kernelspec": {
   "display_name": "Python 3.7.0 64-bit ('daa3': conda)",
   "language": "python",
   "name": "python3"
  },
  "language_info": {
   "codemirror_mode": {
    "name": "ipython",
    "version": 3
   },
   "file_extension": ".py",
   "mimetype": "text/x-python",
   "name": "python",
   "nbconvert_exporter": "python",
   "pygments_lexer": "ipython3",
   "version": "3.7.0"
  },
  "orig_nbformat": 4
 },
 "nbformat": 4,
 "nbformat_minor": 2
}
